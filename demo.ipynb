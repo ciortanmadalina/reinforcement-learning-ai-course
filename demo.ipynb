{
 "cells": [
  {
   "cell_type": "code",
   "execution_count": 1,
   "metadata": {
    "collapsed": true
   },
   "outputs": [],
   "source": [
    "import numpy as np\n",
    "import pylab as plt\n",
    "import networkx as nx\n",
    "import pandas as pd\n",
    "import numpy as np\n",
    "import matplotlib.pyplot as plt\n",
    "import seaborn as sns\n",
    "from collections import Counter\n",
    "import random\n",
    "from matplotlib.ticker import FixedLocator\n",
    "from mpl_toolkits.axes_grid.anchored_artists import AnchoredText\n",
    "import matplotlib.gridspec as gridspec\n",
    "from pprint import pprint\n",
    "from tqdm import tqdm\n",
    "import math\n",
    "import itertools\n",
    "from IPython.display import clear_output\n",
    "import pickle\n",
    "import datetime\n",
    "from datetime import *\n",
    "plt.ion()\n",
    "plt.show()"
   ]
  },
  {
   "cell_type": "markdown",
   "metadata": {},
   "source": [
    "Implementation for algorithm described in : http://www.naun.org/main/NAUN/computers/20-713.pdf"
   ]
  },
  {
   "cell_type": "code",
   "execution_count": 2,
   "metadata": {},
   "outputs": [
    {
     "name": "stdout",
     "output_type": "stream",
     "text": [
      "20\n",
      "input:  ['H', 'P', 'H', 'P', 'P', 'H', 'H', 'P', 'H', 'P', 'P', 'H', 'P', 'H', 'H', 'P', 'P', 'H', 'P', 'H']\n",
      "19\n",
      "output:  [0, 3, 3, 2, 1, 2, 3, 2, 2, 1, 0, 1, 0, 1, 2, 1, 0, 0, 3]\n"
     ]
    }
   ],
   "source": [
    "P = 'HPHPPHHPHPPHPHHPPHPH'\n",
    "print(len(P))\n",
    "# TO DO create random generator for input population\n",
    "P = list(P) # transform input string into array\n",
    "print('input: ', P)\n",
    "\n",
    "# this dictionary maps directions to integer values which can become indexes in actions matrix\n",
    "moves = {'R':0, 'D': 1, 'L': 2, 'U': 3}\n",
    "pi = 'RUULDLULLDRDRDLDRRU'\n",
    "pi = list(pi)\n",
    "pi = list(map(lambda x : moves[x], pi))\n",
    "print(len(pi))\n",
    "print('output: ', pi)"
   ]
  },
  {
   "cell_type": "code",
   "execution_count": null,
   "metadata": {
    "collapsed": true
   },
   "outputs": [],
   "source": []
  },
  {
   "cell_type": "markdown",
   "metadata": {},
   "source": [
    "Utility methods for visualisation of policies:"
   ]
  },
  {
   "cell_type": "code",
   "execution_count": 3,
   "metadata": {},
   "outputs": [
    {
     "name": "stdout",
     "output_type": "stream",
     "text": [
      "[(2, 3), (2, 4), (3, 4), (4, 4), (4, 3), (3, 3), (3, 2), (4, 2), (4, 1), (4, 0), (3, 0), (3, 1), (2, 1), (2, 2), (1, 2), (1, 1), (0, 1), (0, 2), (0, 3), (1, 3)] [[ 0. -1.  1. -1.  0.]\n",
      " [ 0. -1.  1.  1.  0.]\n",
      " [ 0. -1.  1.  1. -1.]\n",
      " [-1.  1.  1.  1.  1.]\n",
      " [-1.  1. -1. -1. -1.]]\n"
     ]
    },
    {
     "data": {
      "image/png": "[encoded data removed]",
      "text/plain": [
       "<matplotlib.figure.Figure at 0x2373bdf7b70>"
      ]
     },
     "metadata": {},
     "output_type": "display_data"
    }
   ],
   "source": [
    "def updateCurrentIndex(x, y, action):\n",
    "    if action == moves['U']:\n",
    "        x = x + 1\n",
    "    elif action == moves['D']:\n",
    "        x = x - 1\n",
    "    elif action == moves['R']:\n",
    "        y = y + 1\n",
    "    else:\n",
    "        y = y - 1\n",
    "    return x, y\n",
    "\n",
    "def getActionValue(prot_type):\n",
    "    return 1 if prot_type == 'H' else -1\n",
    "\n",
    "\"\"\"\n",
    "Visualize the content of a matrix as a heatmap\n",
    "\"\"\"\n",
    "def plotMatrix(m, label = ''):\n",
    "    plt.title('Representation of matrix %s '%(label))\n",
    "    sns.heatmap(m,  cmap='coolwarm', annot=True, fmt=\".1f\");\n",
    "\n",
    "\"\"\"\n",
    "Generates a matrix representing the 2D model of the protein based on the sequence of actions pi\n",
    "\"\"\"\n",
    "def getVisualizationMatrixAndPoints(P, pi):\n",
    "    l = 2* len(pi)\n",
    "    viz = np.zeros([l+1, l+1]) # visualization matrix initialized with 0\n",
    "    points = [] # this will hold the order of points\n",
    "    cur_x, cur_y = len(pi), len(pi)\n",
    "    points.append((cur_x, cur_y))\n",
    "    viz [cur_x, cur_y] = getActionValue(P[0]) # initialize center of the matrix\n",
    "    for  action, prot_type in zip(pi, P[1:]):   \n",
    "        cur_x, cur_y = updateCurrentIndex(cur_x, cur_y, action)\n",
    "        viz [cur_x, cur_y] = getActionValue(prot_type)\n",
    "        points.append((cur_x, cur_y))\n",
    "        \n",
    "    points = list(map(list, zip(*points))) # separate list of tuple points into a list with 2 arrays: x an y coordinates\n",
    "    # substract from x and y coordinates min values in order to remove 0 based columns and rows\n",
    "    points = list(zip(list(map(lambda x: x - min(points[0]), points[0] )),\n",
    "        list(map(lambda x: x - min(points[1]), points[1] ))))\n",
    "    \n",
    "    # this removes all columns and rows padded with 0s\n",
    "    viz = viz[~np.all(viz == 0, axis=1)]\n",
    "    viz = viz[:, ~np.all(viz == 0, axis=0)]\n",
    "        \n",
    "    return viz, points\n",
    "\n",
    "\n",
    "viz, points =getVisualizationMatrixAndPoints(P, pi)\n",
    "print(points, viz)\n",
    "\n",
    "plotMatrix(viz, 'viz')"
   ]
  },
  {
   "cell_type": "code",
   "execution_count": null,
   "metadata": {
    "collapsed": true
   },
   "outputs": [],
   "source": []
  },
  {
   "cell_type": "code",
   "execution_count": 4,
   "metadata": {
    "collapsed": true
   },
   "outputs": [],
   "source": [
    "\"\"\"\n",
    "This method generates an annotated graph representation for the input string of hydrophobic / polar aminacids \n",
    "and the policy pi of actions to be taken at each step\n",
    "\"\"\"\n",
    "\n",
    "def plotSolution(P, pi):\n",
    "    viz, lines = getVisualizationMatrixAndPoints(P, pi)\n",
    "    print(viz, lines)\n",
    "    \n",
    "    fig = plt.figure(figsize=(7,7))\n",
    "    # set circleSize and plot\n",
    "    circleSize = 1000 # in points²\n",
    "    \n",
    "    # Split graphic into 2 sections for the 2d map and the input viz\n",
    "    gs = gridspec.GridSpec(2, 1, width_ratios=[1], height_ratios=[5,1]) \n",
    "    \n",
    "    # Section1 : 2D map\n",
    "    ax = plt.subplot(gs[0]) # use first grid spec\n",
    "\n",
    "    y, x = np.where(viz == 1) # hydrophobic AA\n",
    "    plt.scatter(x, y, s=circleSize, c='orange', alpha=0.4)\n",
    "\n",
    "    y, x = np.where(viz == -1) # hydrophilic AA\n",
    "    plt.scatter(x, y, s=circleSize, c='green', alpha=0.4 )\n",
    "    \n",
    "    plt.legend(['Hydrophobic amino acids', 'Hydrophilic amino acids '], loc='center left', bbox_to_anchor=(1, 0.5),\n",
    "               fancybox=True, shadow=True)\n",
    "#     plt.xlim(0,5)\n",
    "#     plt.ylim(0,5)\n",
    "\n",
    "    figSize = (fig.get_figwidth(),fig.get_figheight()) # in inches\n",
    "    axSize = (plt.xlim()[1]-plt.xlim()[0],plt.ylim()[1]-plt.ylim()[0]) # in 'axis units'\n",
    "    circleRadius = math.sqrt(circleSize/math.pi) # in points (dots)\n",
    "    circleRadius /= fig.dpi # in inches\n",
    "    circleHOffset = circleRadius * (axSize[0]/figSize[0]) # inch * (axis/inch) -> axis\n",
    "    circleVOffset = circleRadius * (axSize[1]/figSize[1]) # inch * (axis/inch) -> axis\n",
    "\n",
    "    shrinkHV = [circleHOffset, circleVOffset]\n",
    "    \n",
    "    # Write numbers on circles\n",
    "    for i, point in enumerate(lines):\n",
    "        if i + 1 == len(lines):\n",
    "            ax.annotate(i + 1, xy=(point[1], point[0]), va=\"center\", ha=\"center\")\n",
    "            break\n",
    "        nextPoint = lines[i+1]\n",
    "        ax.annotate(i + 1, \n",
    "                    xy=(point[1] , point[0]),\n",
    "                    va=\"center\", ha=\"center\",\n",
    "                   )\n",
    "        ax.annotate('', \n",
    "                    xytext=(point[1] , point[0] ),\n",
    "                    xy=(nextPoint[1] , nextPoint[0]),\n",
    "                    arrowprops=dict(facecolor='black', shrink=shrinkHV[int(nextPoint[0]!=point[0])]),\n",
    "                       )\n",
    "\n",
    "\n",
    "    plt.xticks([], [])\n",
    "    plt.yticks([], [])\n",
    "    grid_indexes = np.arange(viz.shape[0])\n",
    "    grid_indexes = grid_indexes + 0.5\n",
    "    minor_locator = FixedLocator(grid_indexes)\n",
    "    ax.xaxis.set_minor_locator(minor_locator)\n",
    "\n",
    "\n",
    "    grid_indexes = np.arange(viz.shape[1])\n",
    "    grid_indexes = grid_indexes + 0.5\n",
    "    minor_locator = FixedLocator(grid_indexes)\n",
    "    ax.yaxis.set_minor_locator(minor_locator)\n",
    "\n",
    "\n",
    "\n",
    "\n",
    "    plt.grid(which='minor')\n",
    "    sns.despine()\n",
    "    plt.title('2D representation of proteins')\n",
    "\n",
    "    # Section2 : input/ policy annotation\n",
    "    ax = plt.subplot(gs[1])\n",
    "\n",
    "    at = AnchoredText(\"Input: \\n %s \\n Directions: \\n %s\" % (P, pi),\n",
    "                      prop=dict(size=12), frameon=True,\n",
    "                      loc=1,\n",
    "                      )\n",
    "    at.patch.set_boxstyle(\"round,pad=0.2,rounding_size=0.4\")\n",
    "    ax.add_artist(at)\n",
    "\n",
    "    plt.axis('off');\n",
    "#     plt.tight_layout()\n",
    "    \n",
    "# plotSolution(P, pi)"
   ]
  },
  {
   "cell_type": "code",
   "execution_count": 5,
   "metadata": {},
   "outputs": [
    {
     "name": "stdout",
     "output_type": "stream",
     "text": [
      "[[ 0. -1.  1. -1.  0.]\n",
      " [ 0. -1.  1.  1.  0.]\n",
      " [ 0. -1.  1.  1. -1.]\n",
      " [-1.  1.  1.  1.  1.]\n",
      " [-1.  1. -1. -1. -1.]] [(2, 3), (2, 4), (3, 4), (4, 4), (4, 3), (3, 3), (3, 2), (4, 2), (4, 1), (4, 0), (3, 0), (3, 1), (2, 1), (2, 2), (1, 2), (1, 1), (0, 1), (0, 2), (0, 3), (1, 3)]\n"
     ]
    },
    {
     "data": {
      "image/png": "[encoded data removed]",
      "text/plain": [
       "<matplotlib.figure.Figure at 0x2373bdf7518>"
      ]
     },
     "metadata": {},
     "output_type": "display_data"
    }
   ],
   "source": [
    "plotSolution(P, pi)"
   ]
  },
  {
   "cell_type": "markdown",
   "metadata": {},
   "source": [
    "The following method validates a configuration :\n",
    "<img src ='img/valid_configuration.PNG'> </img>"
   ]
  },
  {
   "cell_type": "code",
   "execution_count": 6,
   "metadata": {},
   "outputs": [
    {
     "data": {
      "text/plain": [
       "True"
      ]
     },
     "execution_count": 6,
     "metadata": {},
     "output_type": "execute_result"
    }
   ],
   "source": [
    "def validConfiguration(points):\n",
    "    for i, point in enumerate(points):\n",
    "        if i+1 == len(points):\n",
    "            return True\n",
    "        \n",
    "        if abs(points[i][0] - points[i + 1][0]) + abs(points[i][1] - points[i + 1][1]) != 1:\n",
    "#             print('#', end = '')\n",
    "            return False\n",
    "        \n",
    "        if len(points) != len(set(points)):\n",
    "#             print('>', end = '')\n",
    "            return False\n",
    "        \n",
    "validConfiguration(points)"
   ]
  },
  {
   "cell_type": "markdown",
   "metadata": {
    "collapsed": true
   },
   "source": [
    "<img src = 'img/energy_function.PNG'></img>"
   ]
  },
  {
   "cell_type": "code",
   "execution_count": 7,
   "metadata": {},
   "outputs": [
    {
     "data": {
      "text/plain": [
       "-9"
      ]
     },
     "execution_count": 7,
     "metadata": {},
     "output_type": "execute_result"
    }
   ],
   "source": [
    "def energyFunction(points, P):\n",
    "    I = 0\n",
    "    for i in range(len(points)):\n",
    "        for j in range(len(points)):\n",
    "            if abs(i-j) >=2:\n",
    "                if abs(points[i][0] - points[j][0]) + abs(points[i][1] - points[j][1]) == 1 and P[i] == 'H' and P[j] == 'H':\n",
    "                    I = I -1\n",
    "    return I // 2 # we have to divide by 2 because we considered the pairs twice\n",
    "                    \n",
    "                \n",
    "energyFunction(points, P)              "
   ]
  },
  {
   "cell_type": "code",
   "execution_count": 8,
   "metadata": {},
   "outputs": [
    {
     "data": {
      "text/plain": [
       "9"
      ]
     },
     "execution_count": 8,
     "metadata": {},
     "output_type": "execute_result"
    }
   ],
   "source": [
    "def reward(P, pi, log = False):\n",
    "    viz, points =getVisualizationMatrixAndPoints(P, pi)\n",
    "\n",
    "    if validConfiguration(points) == False:\n",
    "        return 0.01\n",
    "    \n",
    "    if len(pi) == (len(P) -1):\n",
    "        if log:\n",
    "            print('VALID %s ' % pi)\n",
    "        return -1 * energyFunction(points, P)\n",
    "    return 0.1\n",
    "\n",
    "def qScore(Q):\n",
    "    if (np.max(Q) > 0):\n",
    "        return(np.sum(Q/np.max(Q)*100))\n",
    "    else:\n",
    "        return (0)\n",
    "    \n",
    "reward(P, pi)"
   ]
  },
  {
   "cell_type": "markdown",
   "metadata": {},
   "source": [
    "Static parameters:"
   ]
  },
  {
   "cell_type": "code",
   "execution_count": 9,
   "metadata": {
    "collapsed": true
   },
   "outputs": [],
   "source": [
    "N = len(P)-1 # number of iterations to cover the protein\n",
    "gamma = .8 # discount factor for future rewards\n",
    "lr= 0.8 # learning rare\n",
    "MOVE_SIZE = 4 # number of available moves"
   ]
  },
  {
   "cell_type": "code",
   "execution_count": 10,
   "metadata": {},
   "outputs": [
    {
     "name": "stdout",
     "output_type": "stream",
     "text": [
      "85\n"
     ]
    },
    {
     "data": {
      "text/plain": [
       "{'0': [0, 0, 7, 0],\n",
       " '00': [0, 0, 0, 0],\n",
       " '000': [0, 0, 0, 0],\n",
       " '001': [0, 0, 0, 0],\n",
       " '002': [0, 0, 0, 0],\n",
       " '003': [0, 0, 0, 0],\n",
       " '01': [0, 0, 0, 0],\n",
       " '010': [0, 0, 0, 0],\n",
       " '011': [0, 0, 0, 0],\n",
       " '012': [0, 0, 0, 0],\n",
       " '013': [0, 0, 0, 0],\n",
       " '02': [0, 0, 0, 0],\n",
       " '020': [0, 0, 0, 0],\n",
       " '021': [0, 0, 0, 0],\n",
       " '022': [0, 0, 0, 0],\n",
       " '023': [0, 0, 0, 0],\n",
       " '03': [0, 0, 0, 0],\n",
       " '030': [0, 0, 0, 0],\n",
       " '031': [0, 0, 0, 0],\n",
       " '032': [0, 0, 0, 0],\n",
       " '033': [0, 0, 0, 0],\n",
       " '1': [0, 0, 0, 0],\n",
       " '10': [0, 0, 0, 0],\n",
       " '100': [0, 0, 0, 0],\n",
       " '101': [0, 0, 0, 0],\n",
       " '102': [0, 0, 0, 0],\n",
       " '103': [0, 0, 0, 0],\n",
       " '11': [0, 0, 0, 0],\n",
       " '110': [0, 0, 0, 0],\n",
       " '111': [0, 0, 0, 0],\n",
       " '112': [0, 0, 0, 0],\n",
       " '113': [0, 0, 0, 0],\n",
       " '12': [0, 0, 0, 0],\n",
       " '120': [0, 0, 0, 0],\n",
       " '121': [0, 0, 0, 0],\n",
       " '122': [0, 0, 0, 0],\n",
       " '123': [0, 0, 0, 0],\n",
       " '13': [0, 0, 0, 0],\n",
       " '130': [0, 0, 0, 0],\n",
       " '131': [0, 0, 0, 0],\n",
       " '132': [0, 0, 0, 0],\n",
       " '133': [0, 0, 0, 0],\n",
       " '2': [0, 0, 0, 0],\n",
       " '20': [0, 0, 0, 0],\n",
       " '200': [0, 0, 0, 0],\n",
       " '201': [0, 0, 0, 0],\n",
       " '202': [0, 0, 0, 0],\n",
       " '203': [0, 0, 0, 0],\n",
       " '21': [0, 0, 0, 0],\n",
       " '210': [0, 0, 0, 0],\n",
       " '211': [0, 0, 0, 0],\n",
       " '212': [0, 0, 0, 0],\n",
       " '213': [0, 0, 0, 0],\n",
       " '22': [0, 0, 0, 0],\n",
       " '220': [0, 0, 0, 0],\n",
       " '221': [0, 0, 0, 0],\n",
       " '222': [0, 0, 0, 0],\n",
       " '223': [0, 0, 0, 0],\n",
       " '23': [0, 0, 0, 0],\n",
       " '230': [0, 0, 0, 0],\n",
       " '231': [0, 0, 0, 0],\n",
       " '232': [0, 0, 0, 0],\n",
       " '233': [0, 0, 0, 0],\n",
       " '3': [0, 0, 0, 0],\n",
       " '30': [0, 0, 0, 0],\n",
       " '300': [0, 0, 0, 0],\n",
       " '301': [0, 0, 0, 0],\n",
       " '302': [0, 0, 0, 0],\n",
       " '303': [0, 0, 0, 0],\n",
       " '31': [0, 0, 0, 0],\n",
       " '310': [0, 0, 0, 0],\n",
       " '311': [0, 0, 0, 0],\n",
       " '312': [0, 0, 0, 0],\n",
       " '313': [0, 0, 0, 0],\n",
       " '32': [0, 0, 0, 0],\n",
       " '320': [0, 0, 0, 0],\n",
       " '321': [0, 0, 0, 0],\n",
       " '322': [0, 0, 0, 0],\n",
       " '323': [0, 0, 0, 0],\n",
       " '33': [0, 0, 0, 0],\n",
       " '330': [0, 0, 0, 0],\n",
       " '331': [0, 0, 0, 0],\n",
       " '332': [0, 0, 0, 0],\n",
       " '333': [0, 0, 0, 0],\n",
       " 'start': [0, 0, 0, 0]}"
      ]
     },
     "execution_count": 10,
     "metadata": {},
     "output_type": "execute_result"
    }
   ],
   "source": [
    "\"\"\"\n",
    "Parameter pruneTree creates a smaller version of the graph by harcoding the first state to 0\n",
    "\"\"\"\n",
    "def initializeQ(P, pruneTree = False):\n",
    "    Q = {}\n",
    "    directions = ['0', '1', '2', '3']\n",
    "    states = None\n",
    "    for el in range(len(P) - 1):\n",
    "        if states == None:\n",
    "            states = directions\n",
    "            Q['start'] = [0] * MOVE_SIZE\n",
    "            if pruneTree:\n",
    "                Q['0'] = [0] * MOVE_SIZE\n",
    "            else:\n",
    "                for e in directions:\n",
    "                    Q[str(e)] = [0] * MOVE_SIZE\n",
    "        else:\n",
    "            newstates = []\n",
    "            for i, j in itertools.product(states, directions):\n",
    "                newstates.append(str(i) + str(j))\n",
    "                Q[str(i) + str(j)] = [0] * MOVE_SIZE\n",
    "                states = newstates\n",
    "    return Q\n",
    "\n",
    "P = ['H', 'H', 'P', 'H']\n",
    "print(len(initializeQ(P)))\n",
    "Q =initializeQ(P)\n",
    "Q['0'][2] = 7 # how to update dictionary\n",
    "Q"
   ]
  },
  {
   "cell_type": "code",
   "execution_count": 11,
   "metadata": {
    "collapsed": true
   },
   "outputs": [],
   "source": [
    "def qScoreDictionary(Q):\n",
    "    Q = list(Q.values())\n",
    "    if (np.max(Q) > 0):\n",
    "        return(np.sum(Q/np.max(Q)*100))\n",
    "    else:\n",
    "        return (0)\n",
    "    "
   ]
  },
  {
   "cell_type": "markdown",
   "metadata": {},
   "source": [
    "Train model2 :"
   ]
  },
  {
   "cell_type": "code",
   "execution_count": 12,
   "metadata": {
    "collapsed": true
   },
   "outputs": [],
   "source": [
    "def reward(P, pi, log = False):\n",
    "    viz, points =getVisualizationMatrixAndPoints(P, pi)\n",
    "\n",
    "    if validConfiguration(points) == False:\n",
    "        return -0.01\n",
    "    \n",
    "    if len(pi) == (len(P) -1):\n",
    "        if log:\n",
    "            print('VALID %s ' % pi)\n",
    "        return -1 * energyFunction(points, P)\n",
    "    return 0.1"
   ]
  },
  {
   "cell_type": "markdown",
   "metadata": {},
   "source": [
    "## Model 3: the same structure as model 2, but on the first step prune the tree by keeping only the first move.\n",
    "This will reduce the computational problem by 3/4   \n",
    "This hardcodes the first move to 0"
   ]
  },
  {
   "cell_type": "code",
   "execution_count": 13,
   "metadata": {},
   "outputs": [
    {
     "name": "stdout",
     "output_type": "stream",
     "text": [
      "[[ 1.  1.  0.]\n",
      " [ 0. -1.  1.]\n",
      " [ 0.  0. -1.]\n",
      " [ 0.  0.  1.]] [(0, 0), (0, 1), (1, 1), (1, 2), (2, 2), (3, 2)]\n"
     ]
    },
    {
     "data": {
      "image/png": "[encoded data removed]",
      "text/plain": [
       "<matplotlib.figure.Figure at 0x2373bc8e470>"
      ]
     },
     "metadata": {},
     "output_type": "display_data"
    },
    {
     "ename": "KeyboardInterrupt",
     "evalue": "",
     "output_type": "error",
     "traceback": [
      "\u001b[1;31m---------------------------------------------------------------------------\u001b[0m",
      "\u001b[1;31mKeyboardInterrupt\u001b[0m                         Traceback (most recent call last)",
      "\u001b[1;32m<ipython-input-13-5253621c7387>\u001b[0m in \u001b[0;36m<module>\u001b[1;34m()\u001b[0m\n\u001b[0;32m     34\u001b[0m         \u001b[0mscores\u001b[0m\u001b[1;33m.\u001b[0m\u001b[0mappend\u001b[0m\u001b[1;33m(\u001b[0m\u001b[0mqScoreDictionary\u001b[0m\u001b[1;33m(\u001b[0m\u001b[0mQ\u001b[0m\u001b[1;33m)\u001b[0m\u001b[1;33m)\u001b[0m\u001b[1;33m\u001b[0m\u001b[0m\n\u001b[0;32m     35\u001b[0m     \u001b[1;31m# print solution\u001b[0m\u001b[1;33m\u001b[0m\u001b[1;33m\u001b[0m\u001b[0m\n\u001b[1;32m---> 36\u001b[1;33m     \u001b[0mtime\u001b[0m\u001b[1;33m.\u001b[0m\u001b[0msleep\u001b[0m\u001b[1;33m(\u001b[0m\u001b[1;36m1\u001b[0m\u001b[1;33m)\u001b[0m\u001b[1;33m\u001b[0m\u001b[0m\n\u001b[0m\u001b[0;32m     37\u001b[0m     \u001b[0mclear_output\u001b[0m\u001b[1;33m(\u001b[0m\u001b[1;33m)\u001b[0m\u001b[1;33m\u001b[0m\u001b[0m\n\u001b[0;32m     38\u001b[0m     \u001b[0mplotSolution\u001b[0m\u001b[1;33m(\u001b[0m\u001b[0mP\u001b[0m\u001b[1;33m,\u001b[0m \u001b[0mactions\u001b[0m\u001b[1;33m)\u001b[0m\u001b[1;33m\u001b[0m\u001b[0m\n",
      "\u001b[1;31mKeyboardInterrupt\u001b[0m: "
     ]
    }
   ],
   "source": [
    "import time\n",
    "\n",
    "P = ['H', 'H', 'P', 'H', 'P', 'H']\n",
    "Q= initializeQ(P, True)\n",
    "gamma = .95 # discount factor for future rewards\n",
    "lr= 0.7 # learning rare\n",
    "\n",
    "current_state = 'start'\n",
    "actions = []\n",
    "scores = [] \n",
    "\n",
    "for i in range(10000):\n",
    "    actions = []\n",
    "    current_state = 'start'\n",
    "    for j in range(len(P) - 1):\n",
    "        \n",
    "        if current_state == 'start':\n",
    "            action = 0\n",
    "        else:\n",
    "            # Choose an action by as the best option from Q for current state + noise\n",
    "            action= np.argmax(Q[current_state] + np.random.randn(1,MOVE_SIZE)*(1.0/(i + 2*j +1))) # become less random over time\n",
    "\n",
    "        actions.append(action)\n",
    "        next_state = str(action) if current_state == 'start' else current_state + str(action)\n",
    "\n",
    "        r = reward(P, actions)\n",
    "        future_reward = np.max(Q[next_state])\n",
    "#         Q[current_state][int(action)] = (1-lr) * Q[current_state][int(action)] + lr * ( r + gamma * future_reward)\n",
    "        reward_improvement = (future_reward - Q[current_state][int(action)])\n",
    "        value_change = lr*(r + reward_improvement)\n",
    "        Q[current_state][int(action)] = Q[current_state][int(action)] + value_change\n",
    "        \n",
    "        current_state = next_state\n",
    "        scores.append(qScoreDictionary(Q))\n",
    "    # print solution\n",
    "    time.sleep(1)\n",
    "    clear_output()\n",
    "    plotSolution(P, actions)\n",
    "    plt.show()\n",
    "\n",
    "        \n",
    "\n",
    "        \n",
    "plotSolution(P, actions)\n",
    "plt.plot(scores)\n",
    "plt.title('Q learning score evolution, final reward %s ' % (reward(P, actions, True)))\n",
    "plt.show()\n",
    "Q"
   ]
  },
  {
   "cell_type": "code",
   "execution_count": null,
   "metadata": {
    "collapsed": true
   },
   "outputs": [],
   "source": []
  },
  {
   "cell_type": "code",
   "execution_count": null,
   "metadata": {
    "collapsed": true
   },
   "outputs": [],
   "source": []
  },
  {
   "cell_type": "code",
   "execution_count": null,
   "metadata": {
    "collapsed": true
   },
   "outputs": [],
   "source": []
  },
  {
   "cell_type": "code",
   "execution_count": null,
   "metadata": {
    "collapsed": true
   },
   "outputs": [],
   "source": []
  },
  {
   "cell_type": "code",
   "execution_count": null,
   "metadata": {
    "collapsed": true
   },
   "outputs": [],
   "source": []
  },
  {
   "cell_type": "code",
   "execution_count": null,
   "metadata": {
    "collapsed": true
   },
   "outputs": [],
   "source": []
  },
  {
   "cell_type": "code",
   "execution_count": null,
   "metadata": {
    "collapsed": true
   },
   "outputs": [],
   "source": []
  },
  {
   "cell_type": "code",
   "execution_count": null,
   "metadata": {
    "collapsed": true
   },
   "outputs": [],
   "source": []
  },
  {
   "cell_type": "code",
   "execution_count": null,
   "metadata": {
    "collapsed": true
   },
   "outputs": [],
   "source": []
  },
  {
   "cell_type": "code",
   "execution_count": null,
   "metadata": {
    "collapsed": true
   },
   "outputs": [],
   "source": []
  },
  {
   "cell_type": "code",
   "execution_count": null,
   "metadata": {
    "collapsed": true
   },
   "outputs": [],
   "source": []
  },
  {
   "cell_type": "code",
   "execution_count": null,
   "metadata": {
    "collapsed": true
   },
   "outputs": [],
   "source": []
  },
  {
   "cell_type": "code",
   "execution_count": null,
   "metadata": {
    "collapsed": true
   },
   "outputs": [],
   "source": []
  },
  {
   "cell_type": "code",
   "execution_count": null,
   "metadata": {
    "collapsed": true
   },
   "outputs": [],
   "source": []
  },
  {
   "cell_type": "code",
   "execution_count": null,
   "metadata": {
    "collapsed": true
   },
   "outputs": [],
   "source": []
  }
 ],
 "metadata": {
  "kernelspec": {
   "display_name": "Python 3",
   "language": "python",
   "name": "python3"
  },
  "language_info": {
   "codemirror_mode": {
    "name": "ipython",
    "version": 3
   },
   "file_extension": ".py",
   "mimetype": "text/x-python",
   "name": "python",
   "nbconvert_exporter": "python",
   "pygments_lexer": "ipython3",
   "version": "3.5.3"
  }
 },
 "nbformat": 4,
 "nbformat_minor": 2
}
